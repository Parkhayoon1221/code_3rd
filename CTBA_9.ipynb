{
  "nbformat": 4,
  "nbformat_minor": 0,
  "metadata": {
    "colab": {
      "provenance": [],
      "authorship_tag": "ABX9TyN3cEZrTxKApTRfsKXjCh8v",
      "include_colab_link": true
    },
    "kernelspec": {
      "name": "python3",
      "display_name": "Python 3"
    },
    "language_info": {
      "name": "python"
    }
  },
  "cells": [
    {
      "cell_type": "markdown",
      "metadata": {
        "id": "view-in-github",
        "colab_type": "text"
      },
      "source": [
        "<a href=\"https://colab.research.google.com/github/Parkhayoon1221/code_3rd/blob/main/CTBA_9.ipynb\" target=\"_parent\"><img src=\"https://colab.research.google.com/assets/colab-badge.svg\" alt=\"Open In Colab\"/></a>"
      ]
    },
    {
      "cell_type": "markdown",
      "source": [
        "1, 두가지 이상의 선택, 다양한 선택구조 코딩\n",
        "- 배송료처리 3가지 작성\n",
        "- 변수: price, 가격 10만원 이상 0원, 2만원이상 3000원, 그외 5천원\n"
      ],
      "metadata": {
        "id": "t3_evO4d30j0"
      }
    },
    {
      "cell_type": "code",
      "execution_count": 1,
      "metadata": {
        "colab": {
          "base_uri": "https://localhost:8080/"
        },
        "id": "XGdtmBo03u3L",
        "outputId": "93e0237a-2272-40d5-b418-f7d66d7ce180"
      },
      "outputs": [
        {
          "output_type": "stream",
          "name": "stdout",
          "text": [
            "배송료를 계산합니다.\n",
            "##############################\n",
            "구매금액 입력: 19000\n",
            "배송료는 5000원 입니다.\n"
          ]
        }
      ],
      "source": [
        "print(\"배송료를 계산합니다.\")\n",
        "print(\"#\"*30)\n",
        "price = int(input(\"구매금액 입력: \"))\n",
        "if price >= 100000:\n",
        "  shipping_cost = 0\n",
        "else:\n",
        "  if price >= 20000:\n",
        "    shipping_cost = 3000\n",
        "  else:\n",
        "    shipping_cost = 5000\n",
        "print(f'배송료는 {shipping_cost}원 입니다.')\n"
      ]
    },
    {
      "cell_type": "markdown",
      "source": [
        "2. 환영합니다.5번출력,10번출력,30번출력"
      ],
      "metadata": {
        "id": "7NcGghMb5eSY"
      }
    },
    {
      "cell_type": "code",
      "source": [
        "print(\"환영합니다.\")\n",
        "print(\"환영합니다.\")\n",
        "print(\"환영합니다.\")\n",
        "print(\"환영합니다.\")\n",
        "print(\"환영합니다.\")"
      ],
      "metadata": {
        "colab": {
          "base_uri": "https://localhost:8080/"
        },
        "id": "2FYWrJ7v5dSS",
        "outputId": "c967a6a5-aa5e-42dd-b3c6-fe28c1f6c937"
      },
      "execution_count": 2,
      "outputs": [
        {
          "output_type": "stream",
          "name": "stdout",
          "text": [
            "환영합니다.\n",
            "환영합니다.\n",
            "환영합니다.\n",
            "환영합니다.\n",
            "환영합니다.\n"
          ]
        }
      ]
    },
    {
      "cell_type": "code",
      "source": [
        "print(\"환영합니다.\\n\"*5)"
      ],
      "metadata": {
        "colab": {
          "base_uri": "https://localhost:8080/"
        },
        "id": "uqs-KATX5yB9",
        "outputId": "f3e6dc81-9d6d-43cc-c099-0a501d3e53a6"
      },
      "execution_count": 3,
      "outputs": [
        {
          "output_type": "stream",
          "name": "stdout",
          "text": [
            "환영합니다.\n",
            "환영합니다.\n",
            "환영합니다.\n",
            "환영합니다.\n",
            "환영합니다.\n",
            "\n"
          ]
        }
      ]
    },
    {
      "cell_type": "code",
      "source": [
        "count = 1\n",
        "while count <=5:\n",
        "  #print(\"(\", count, \")\", \"환영합니다.\")\n",
        "  print(F'({count})환영합니다.')\n",
        "  #count = count +1\n",
        "  count += 1"
      ],
      "metadata": {
        "colab": {
          "base_uri": "https://localhost:8080/"
        },
        "id": "9GQFFBBg59pX",
        "outputId": "df5f6483-e2b2-4968-dc9e-c1f6340a173f"
      },
      "execution_count": 4,
      "outputs": [
        {
          "output_type": "stream",
          "name": "stdout",
          "text": [
            "(1)환영합니다.\n",
            "(2)환영합니다.\n",
            "(3)환영합니다.\n",
            "(4)환영합니다.\n",
            "(5)환영합니다.\n"
          ]
        }
      ]
    }
  ]
}