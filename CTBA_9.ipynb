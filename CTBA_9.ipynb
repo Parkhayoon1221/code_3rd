{
  "nbformat": 4,
  "nbformat_minor": 0,
  "metadata": {
    "colab": {
      "provenance": [],
      "authorship_tag": "ABX9TyNrnsPnmb9H13D8wrXRXuWC",
      "include_colab_link": true
    },
    "kernelspec": {
      "name": "python3",
      "display_name": "Python 3"
    },
    "language_info": {
      "name": "python"
    }
  },
  "cells": [
    {
      "cell_type": "markdown",
      "metadata": {
        "id": "view-in-github",
        "colab_type": "text"
      },
      "source": [
        "<a href=\"https://colab.research.google.com/github/Parkhayoon1221/code_3rd/blob/main/CTBA_9.ipynb\" target=\"_parent\"><img src=\"https://colab.research.google.com/assets/colab-badge.svg\" alt=\"Open In Colab\"/></a>"
      ]
    },
    {
      "cell_type": "markdown",
      "source": [
        "1, 두가지 이상의 선택, 다양한 선택구조 코딩\n",
        "- 배송료처리 3가지 작성\n",
        "- 변수: price, 가격 10만원 이상 0원, 2만원이상 3000원, 그외 5천원\n"
      ],
      "metadata": {
        "id": "t3_evO4d30j0"
      }
    },
    {
      "cell_type": "code",
      "execution_count": null,
      "metadata": {
        "colab": {
          "base_uri": "https://localhost:8080/"
        },
        "id": "XGdtmBo03u3L",
        "outputId": "93e0237a-2272-40d5-b418-f7d66d7ce180"
      },
      "outputs": [
        {
          "output_type": "stream",
          "name": "stdout",
          "text": [
            "배송료를 계산합니다.\n",
            "##############################\n",
            "구매금액 입력: 19000\n",
            "배송료는 5000원 입니다.\n"
          ]
        }
      ],
      "source": [
        "print(\"배송료를 계산합니다.\")                 # \"배송료를 계산합니다.\" 메시지 출력\n",
        "print(\"#\"*30)                                 # 구분선(# 문자 30개) 출력\n",
        "price = int(input(\"구매금액 입력: \"))         # 구매금액을 정수형으로 입력받음\n",
        "if price >= 100000:                           # 입력받은 구매금액이 100,000원 이상인 경우\n",
        "  shipping_cost = 0                           # 배송료 0원으로 설정\n",
        "else:                                         # 입력받은 구매금액이 100,000원 미만인 경우\n",
        "  if price >= 20000:                          # 입력받은 구매금액이 20,000원 이상인 경우\n",
        "    shipping_cost = 3000                      # 배송료 3,000원으로 설정\n",
        "  else:                                       # 입력받은 구매금액이 20,000원 미만인 경우\n",
        "    shipping_cost = 5000                      # 배송료 5,000원으로 설정\n",
        "print(f'배송료는 {shipping_cost}원 입니다.')  # 배송료 출력"
      ]
    },
    {
      "cell_type": "markdown",
      "source": [
        "2. 환영합니다.5번출력,10번출력,30번출력"
      ],
      "metadata": {
        "id": "7NcGghMb5eSY"
      }
    },
    {
      "cell_type": "code",
      "source": [
        "print(\"환영합니다.\")  # \"환영합니다.\" 메시지 출력\n",
        "print(\"환영합니다.\")  # \"환영합니다.\" 메시지 출력\n",
        "print(\"환영합니다.\")  # \"환영합니다.\" 메시지 출력\n",
        "print(\"환영합니다.\")  # \"환영합니다.\" 메시지 출력\n",
        "print(\"환영합니다.\")  # \"환영합니다.\" 메시지 출력"
      ],
      "metadata": {
        "colab": {
          "base_uri": "https://localhost:8080/"
        },
        "id": "2FYWrJ7v5dSS",
        "outputId": "c967a6a5-aa5e-42dd-b3c6-fe28c1f6c937"
      },
      "execution_count": null,
      "outputs": [
        {
          "output_type": "stream",
          "name": "stdout",
          "text": [
            "환영합니다.\n",
            "환영합니다.\n",
            "환영합니다.\n",
            "환영합니다.\n",
            "환영합니다.\n"
          ]
        }
      ]
    },
    {
      "cell_type": "code",
      "source": [
        "print(\"환영합니다.\\n\"*5) # \"환영합니다.\" 메시지 5번 반복하여 출력"
      ],
      "metadata": {
        "colab": {
          "base_uri": "https://localhost:8080/"
        },
        "id": "uqs-KATX5yB9",
        "outputId": "f3e6dc81-9d6d-43cc-c099-0a501d3e53a6"
      },
      "execution_count": null,
      "outputs": [
        {
          "output_type": "stream",
          "name": "stdout",
          "text": [
            "환영합니다.\n",
            "환영합니다.\n",
            "환영합니다.\n",
            "환영합니다.\n",
            "환영합니다.\n",
            "\n"
          ]
        }
      ]
    },
    {
      "cell_type": "code",
      "source": [
        "count = 1                         # 변수 count를 1로 초기화합니다.\n",
        "while count <=5:                  # count가 5 이하일 때까지 반복합니다.\n",
        "  #print(\"(\", count, \")\", \"환영합니다.\")\n",
        "  print(F'({count})환영합니다.')  # 현재 count 값과 \"환영합니다.\" 메시지를 출력합니다.\n",
        "  #count = count +1\n",
        "  count += 1                      # count 값을 1씩 증가시킵니다."
      ],
      "metadata": {
        "colab": {
          "base_uri": "https://localhost:8080/"
        },
        "id": "9GQFFBBg59pX",
        "outputId": "df5f6483-e2b2-4968-dc9e-c1f6340a173f"
      },
      "execution_count": null,
      "outputs": [
        {
          "output_type": "stream",
          "name": "stdout",
          "text": [
            "(1)환영합니다.\n",
            "(2)환영합니다.\n",
            "(3)환영합니다.\n",
            "(4)환영합니다.\n",
            "(5)환영합니다.\n"
          ]
        }
      ]
    },
    {
      "cell_type": "markdown",
      "source": [
        "3. 0부터 9까지 출력하는 코드 작성\n",
        "- 변수:x"
      ],
      "metadata": {
        "id": "n-I7k4VdVz1-"
      }
    },
    {
      "cell_type": "code",
      "source": [
        "x = 0                # 변수 x를 0으로 초기화합니다.\n",
        "while x < 10:        # x가 10보다 작을 때까지 반복합니다.\n",
        "  print(x, end=' ')  # 현재 x 값을 출력하고 공백으로 구분합니다.\n",
        "  x += 1             # x 값을 1씩 증가시킵니다."
      ],
      "metadata": {
        "id": "dvIdlV8wV_FP",
        "outputId": "29877edb-3140-4a69-fc09-c0be87528984",
        "colab": {
          "base_uri": "https://localhost:8080/"
        }
      },
      "execution_count": null,
      "outputs": [
        {
          "output_type": "stream",
          "name": "stdout",
          "text": [
            "0 1 2 3 4 5 6 7 8 9 "
          ]
        }
      ]
    },
    {
      "cell_type": "markdown",
      "source": [
        "4. 1부터 10까지 정수의 합을 계산하여 출력하는 코드"
      ],
      "metadata": {
        "id": "8pj6_XW9WVlH"
      }
    },
    {
      "cell_type": "code",
      "source": [
        "x = 1                # 변수 x를 1로 초기화합니다.\n",
        "total = 0            # 변수 total을 0으로 초기화합니다.\n",
        "while x <= 10:       # x가 10 이하일 때까지 반복합니다.\n",
        "  total = total + x  # total에 현재 x 값을 더합니다.\n",
        "  x += 1             # x 값을 1씩 증가시킵니다.\n",
        "print(total)         # total 값을 출력합니다."
      ],
      "metadata": {
        "id": "G92PBzQOWcE_",
        "outputId": "06e2f3fb-95dd-430a-975c-fe8ad205b732",
        "colab": {
          "base_uri": "https://localhost:8080/"
        }
      },
      "execution_count": null,
      "outputs": [
        {
          "output_type": "stream",
          "name": "stdout",
          "text": [
            "55\n"
          ]
        }
      ]
    },
    {
      "cell_type": "markdown",
      "source": [
        "5. 3-6-9 게임(3의 배수 판단): 3의 배수를 3으로 나누면 나머지가 0이 되므로(i mod 3)의 값이 0이면박수를 출력, 아니면 숫자를 출력해주는 코드 작성"
      ],
      "metadata": {
        "id": "vsqQkMQLW0jN"
      }
    },
    {
      "cell_type": "code",
      "source": [
        "i = 1                         # 변수 i는 0으로 선언\n",
        "while i <=30:                 # 반복문 while사용해서 1가 30보다 작거나 같을때\n",
        "  if i % 3 == 0:              # 만약 i값을 3으로 나눈 나머지가 0이면\n",
        "    print (\"박수\", end=' ')   #박수를 출력하고 공백을 하나 만듦\n",
        "  else:                       # 위의 것이 아니면,\n",
        "    print(i, end=' ')         # i값만 출력하고 공백하나 만듦\n",
        "  i+=1                        # 변수 i값에 i와 1을 더해서 다시 변수 i에 선언"
      ],
      "metadata": {
        "id": "vUzn4BcmXIyK",
        "outputId": "173512b0-4886-440c-e882-4f2e1ee42a8d",
        "colab": {
          "base_uri": "https://localhost:8080/"
        }
      },
      "execution_count": null,
      "outputs": [
        {
          "output_type": "stream",
          "name": "stdout",
          "text": [
            "1 2 박수 4 5 박수 7 8 박수 10 11 박수 13 14 박수 16 17 박수 19 20 박수 22 23 박수 25 26 박수 28 29 박수 "
          ]
        }
      ]
    },
    {
      "cell_type": "code",
      "source": [
        "for num in range(1, 11):      # 1부터 11까지의 숫자를 반복\n",
        "  if num % 3 == 0:            # 숫자 (num)를 3으로 나눈 나머지가 0인 경우\n",
        "    print(\"박수\", end=' ')    # 박수를 출력하고 공백 만듦\n",
        "  else:                       # 그게 아니면\n",
        "    print(num, end=' ')       # 숫자만 출력하고 공백 만듦"
      ],
      "metadata": {
        "id": "1698xkKKYWyt",
        "outputId": "9c008537-063d-4132-a4e1-fc894ad3df15",
        "colab": {
          "base_uri": "https://localhost:8080/"
        }
      },
      "execution_count": null,
      "outputs": [
        {
          "output_type": "stream",
          "name": "stdout",
          "text": [
            "1 2 박수 4 5 박수 7 8 박수 10 "
          ]
        }
      ]
    },
    {
      "cell_type": "markdown",
      "source": [
        "6. 팩토리얼 계산하는 코드작성"
      ],
      "metadata": {
        "id": "_Sd6STJKZG9_"
      }
    },
    {
      "cell_type": "code",
      "source": [
        "i = int(input(\"팩토리얼 값입력: \"))  # 사용자로부터 정수 값을 입력받아 변수 i에 저장합니다.\n",
        "factorial = 1                        # 변수 factorial을 1로 초기화합니다.\n",
        "while i >= 1:                        # i가 1 이상일 때까지 반복합니다.\n",
        "  factorial = factorial * i          # 현재의 factorial에 i 값을 곱하여 결과를 갱신합니다.\n",
        "  i -= 1                             # i 값을 1씩 감소시킵니다.\n",
        "print(factorial)                     # factorial 값을 출력합니다."
      ],
      "metadata": {
        "id": "Jo0-HbPkZJL_",
        "outputId": "37b3358b-b7a8-4a11-e7f2-b830d9a79803",
        "colab": {
          "base_uri": "https://localhost:8080/"
        }
      },
      "execution_count": null,
      "outputs": [
        {
          "output_type": "stream",
          "name": "stdout",
          "text": [
            "팩토리얼 값입력: 5\n",
            "120\n"
          ]
        }
      ]
    },
    {
      "cell_type": "code",
      "source": [
        "num = int(input(\"팩토리얼 값입력: \"))         # 사용자로부터 정수 값을 입력받아 변수 num에 저장합니다.\n",
        "factorial = 1                                 # 변수 factorial을 1로 초기화합니다.\n",
        "while num >= 1:                               # num이 1 이상일 때까지 반복합니다.\n",
        "  factorial = factorial * num                 # 현재의 factorial에 num 값을 곱하여 결과를 갱신합니다.\n",
        "  num -= 1                                    # num 값을 1씩 감소시킵니다.\n",
        "  print(\"계산된 팩토리얼 값은: \", factorial)  # 계산된 팩토리얼 값을 출력합니다."
      ],
      "metadata": {
        "id": "kV72cJI2Zfuy",
        "outputId": "b8e4b409-eedc-46b0-c040-45ea4222e6ca",
        "colab": {
          "base_uri": "https://localhost:8080/"
        }
      },
      "execution_count": null,
      "outputs": [
        {
          "output_type": "stream",
          "name": "stdout",
          "text": [
            "팩토리얼 값입력: 5\n",
            "계산된 팩토리얼 값은:  5\n",
            "계산된 팩토리얼 값은:  20\n",
            "계산된 팩토리얼 값은:  60\n",
            "계산된 팩토리얼 값은:  120\n",
            "계산된 팩토리얼 값은:  120\n"
          ]
        }
      ]
    }
  ]
}