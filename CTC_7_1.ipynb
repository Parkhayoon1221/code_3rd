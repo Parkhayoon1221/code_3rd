{
  "nbformat": 4,
  "nbformat_minor": 0,
  "metadata": {
    "colab": {
      "provenance": [],
      "authorship_tag": "ABX9TyNNB+7JhsIS0vn7YU+9vQaB",
      "include_colab_link": true
    },
    "kernelspec": {
      "name": "python3",
      "display_name": "Python 3"
    },
    "language_info": {
      "name": "python"
    }
  },
  "cells": [
    {
      "cell_type": "markdown",
      "metadata": {
        "id": "view-in-github",
        "colab_type": "text"
      },
      "source": [
        "<a href=\"https://colab.research.google.com/github/Parkhayoon1221/code_3rd/blob/main/CTC_7_1.ipynb\" target=\"_parent\"><img src=\"https://colab.research.google.com/assets/colab-badge.svg\" alt=\"Open In Colab\"/></a>"
      ]
    },
    {
      "cell_type": "markdown",
      "source": [
        "1. 사용자로부터 3개의 값(x,y,z)을 입력받아서 각각 1씩 증가되고,출력되는 코드작성"
      ],
      "metadata": {
        "id": "1p5N3Mt_G8a6"
      }
    },
    {
      "cell_type": "code",
      "execution_count": null,
      "metadata": {
        "colab": {
          "base_uri": "https://localhost:8080/"
        },
        "id": "ubVywhamG7sW",
        "outputId": "9004c56e-9495-45c8-962e-fd6ede221412"
      },
      "outputs": [
        {
          "output_type": "stream",
          "name": "stdout",
          "text": [
            "x의 값을 입력하시오.:1\n",
            "y의 값을 입력하시오.:2\n",
            "z의 값을 입력하시오.:3\n",
            "x의 값은 2이며, y의 값은 3이고, z의 값은 4이다. \n"
          ]
        }
      ],
      "source": [
        "x=int(input(\"x의 값을 입력하시오.:\")) # 사용자로부터 x의 값을 정수형으로 입력받음\n",
        "y=int(input(\"y의 값을 입력하시오.:\")) # 사용자로부터 y의 값을 정수형으로 입력받음\n",
        "z=int(input(\"z의 값을 입력하시오.:\")) # 사용자로부터 z의 값을 정수형으로 입력받음\n",
        "x=x+1 # x 값에 1을 더하여 증가시킴\n",
        "y=y+1 # y 값에 1을 더하여 증가시킴\n",
        "z=z+1 # z 값에 1을 더하여 증가시킴\n",
        "print(f'x의 값은 {x}이며, y의 값은 {y}이고, z의 값은 {z}이다. ') # 결과를 출력"
      ]
    },
    {
      "cell_type": "markdown",
      "source": [
        "2.알바생의 시급과 시간을 계산하여 월급을 출력한 코드"
      ],
      "metadata": {
        "id": "dWDztimqJWVV"
      }
    },
    {
      "cell_type": "code",
      "source": [
        "hours_worked=int(input(\"일한 시간을 입력하시오:\")) # 사용자로부터 일한 시간을 정수형으로 입력받음\n",
        "pay_rate=int(input(\"시급을 입력하시오(23기준 9620원):\")) # 사용자로부터 시급을 정수형으로 입력받음\n",
        "monthly_pay=hours_worked * pay_rate # 일한 시간과 시급을 곱하여 월급여를 계산함\n",
        "print(f\"일한시간은 {hours_worked}이고, 시급은 {pay_rate}원이며 월급여는 {monthly_pay}원 입니다.\") # 결과를 출력"
      ],
      "metadata": {
        "colab": {
          "base_uri": "https://localhost:8080/"
        },
        "id": "5yMCt6GsJgAq",
        "outputId": "8f4640ed-9f7d-4738-bec4-853ad49ef957"
      },
      "execution_count": null,
      "outputs": [
        {
          "output_type": "stream",
          "name": "stdout",
          "text": [
            "일한 시간을 입력하시오:10\n",
            "시급을 입력하시오(23기준 9620원):9620\n",
            "일한시간은 10이고, 시급은 9620원이며 월급여는 96200원 입니다.:\n"
          ]
        }
      ]
    },
    {
      "cell_type": "markdown",
      "source": [
        "3.환율계산하는 코드 작성\n",
        "- 원의 변수는 won\n",
        "- 달러의 변수는 usd\n",
        "- 환전의 변수는 exchanged"
      ],
      "metadata": {
        "id": "StzPYdoGL_ZV"
      }
    },
    {
      "cell_type": "code",
      "source": [
        "won=int(input(\"환전할 금액을 입력(kor): \")) # 환전할 금액을 한화로 입력받음\n",
        "usd=int(input(\"현재 달러의 환율 입력(231031: 1372): \")) # 현재 달러의 환율을 입력받음\n",
        "exchange=won//usd # 입력받은 금액을 환율로 나누어 달러로 환전함\n",
        "print(f\"환전할 금액은 {won}이며, 달러 금액은 {usd}이고, 환전금액은 {exchange}달러입니다\") # 결과를 출력"
      ],
      "metadata": {
        "colab": {
          "base_uri": "https://localhost:8080/"
        },
        "id": "U69rmSv4MeAJ",
        "outputId": "ef83a650-f19c-4e70-e10f-4abacac65f78"
      },
      "execution_count": null,
      "outputs": [
        {
          "output_type": "stream",
          "name": "stdout",
          "text": [
            "환전할 금액을 입력(kor): 5000\n",
            "현재 달러의 환율 입력(231031: 1372): 1372\n",
            "환전할 금액은 5000이며, 달러 금액은 1372이고, 환전금액은 3달러입니다\n"
          ]
        }
      ]
    },
    {
      "cell_type": "markdown",
      "source": [
        "4. 화씨(fahrenheit)를 섭씨(celcius)로 변환하는 코드작성"
      ],
      "metadata": {
        "id": "WC7-mGJTOJ98"
      }
    },
    {
      "cell_type": "code",
      "source": [
        "fahrenheit=int(input(\"화씨온도를 입력하시오.: \")) # 화씨 온도를 입력받음\n",
        "celcius=(fahrenheit-32)/1.8 # 화씨를 섭씨로 변환하여 계산함\n",
        "print(f\"화씨온도는 {fahrenheit}도는. 섭씨{celcius}도 입니다.\") # 결과를 출력"
      ],
      "metadata": {
        "colab": {
          "base_uri": "https://localhost:8080/"
        },
        "id": "7qKbprh9OcmS",
        "outputId": "58c3c703-65a8-4514-f312-310a5ff64ec3"
      },
      "execution_count": null,
      "outputs": [
        {
          "output_type": "stream",
          "name": "stdout",
          "text": [
            "화씨온도를 입력하시오.: 100\n",
            "화씨온도는 100도는. 섭씨37.77777777777778도 입니다.\n"
          ]
        }
      ]
    },
    {
      "cell_type": "code",
      "source": [
        "celcius=float(input(\"섭씨온도를 입력하시오.:\")) # 섭씨 온도를 입력받음\n",
        "fahrenheit=(celcius * 1.8)+32 # 섭씨를 화씨로 변환하여 계산함\n",
        "print(f\"섭씨온도는 {celcius}도는. 화씨 {fahrenheit}도 입니다.\") # 결과를 출력"
      ],
      "metadata": {
        "colab": {
          "base_uri": "https://localhost:8080/"
        },
        "id": "2BB0CM9lP_CO",
        "outputId": "9aeea93f-f8ff-428d-daa3-61f017efaddd"
      },
      "execution_count": null,
      "outputs": [
        {
          "output_type": "stream",
          "name": "stdout",
          "text": [
            "섭씨온도를 입력하시오.:37.77777777777778\n",
            "섭씨온도는 37.77777777777778도는. 화씨 100.0도 입니다.\n"
          ]
        }
      ]
    },
    {
      "cell_type": "markdown",
      "source": [
        "5. 사용자로부터 2개의 정수를 받아서 합계를 출력"
      ],
      "metadata": {
        "id": "3SZq12fBU7Az"
      }
    },
    {
      "cell_type": "code",
      "source": [
        "x=int(input(\"x의 값을 입력하시오:\")) # x의 값을 정수형으로 입력받음\n",
        "y=int(input(\"y의 값을 입력하시오:\")) # y의 값을 정수형으로 입력받음\n",
        "sum=x+y # x와 y의 합을 계산하여 sum 변수에 저장함\n",
        "print(sum) # sum 출력"
      ],
      "metadata": {
        "colab": {
          "base_uri": "https://localhost:8080/"
        },
        "id": "l-OxoO_9VFmt",
        "outputId": "ee74330c-0528-4475-fd32-c9d5b388b43d"
      },
      "execution_count": null,
      "outputs": [
        {
          "output_type": "stream",
          "name": "stdout",
          "text": [
            "x의 값을 입력하시오:1\n",
            "y의 값을 입력하시오:2\n",
            "3\n"
          ]
        }
      ]
    },
    {
      "cell_type": "markdown",
      "source": [
        "6.부가세 계산"
      ],
      "metadata": {
        "id": "yp5HOJlMVutL"
      }
    },
    {
      "cell_type": "code",
      "source": [
        "price=int(input(\"상품의 가격을 입력하시오:\")) # 상품의 가격을 정수형으로 입력받음\n",
        "vat=price*0.1 # 가격에 0.1을 곱하여 부가가치세(VAT)를 계산함\n",
        "print(vat) # vat 출력"
      ],
      "metadata": {
        "colab": {
          "base_uri": "https://localhost:8080/"
        },
        "id": "ALhlexjhVzpR",
        "outputId": "0c355e7f-a85c-4a42-871f-c4244657a9e1"
      },
      "execution_count": null,
      "outputs": [
        {
          "output_type": "stream",
          "name": "stdout",
          "text": [
            "상품의 가격을 입력하시오:5000\n",
            "500.0\n"
          ]
        }
      ]
    }
  ]
}