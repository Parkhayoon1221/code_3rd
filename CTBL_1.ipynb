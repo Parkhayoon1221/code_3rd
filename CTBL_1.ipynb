{
  "nbformat": 4,
  "nbformat_minor": 0,
  "metadata": {
    "colab": {
      "provenance": [],
      "authorship_tag": "ABX9TyPqMmhgZLKsSb3Fznblp82f",
      "include_colab_link": true
    },
    "kernelspec": {
      "name": "python3",
      "display_name": "Python 3"
    },
    "language_info": {
      "name": "python"
    }
  },
  "cells": [
    {
      "cell_type": "markdown",
      "metadata": {
        "id": "view-in-github",
        "colab_type": "text"
      },
      "source": [
        "<a href=\"https://colab.research.google.com/github/Parkhayoon1221/code_3rd/blob/main/CTBL_1.ipynb\" target=\"_parent\"><img src=\"https://colab.research.google.com/assets/colab-badge.svg\" alt=\"Open In Colab\"/></a>"
      ]
    },
    {
      "cell_type": "markdown",
      "source": [
        "1. 학생으로부터 성적을 입력받아 합격유무를 출력하는 코드작성\n",
        "- 사용변수: Grade\n",
        "- 사용수식: Grade >= 70:"
      ],
      "metadata": {
        "id": "HSau6yiB0h92"
      }
    },
    {
      "cell_type": "code",
      "source": [
        "Grade = int(input(\"성적입력: \"))\n",
        "if Grade>= 70:\n",
        "  print(\"70점 이상이므로 합격\")\n",
        "else:\n",
        "  print(\"70점이하는 불합격\")"
      ],
      "metadata": {
        "colab": {
          "base_uri": "https://localhost:8080/"
        },
        "id": "2-AMEF1i1P8r",
        "outputId": "763e396a-a54b-4c09-be65-7cc015f6272e"
      },
      "execution_count": 2,
      "outputs": [
        {
          "output_type": "stream",
          "name": "stdout",
          "text": [
            "성적입력: 80\n",
            "70점 이상이므로 합격\n"
          ]
        }
      ]
    },
    {
      "cell_type": "markdown",
      "source": [
        "2. 쇼핑몰의 배송료를 계산하는 코드 작성\n",
        "- 변수명 : price, shipping_cost\n",
        "- 수식 : price >= 20000\n",
        "- shipping_cost = 3000"
      ],
      "metadata": {
        "id": "lVLDqkfU3sip"
      }
    },
    {
      "cell_type": "code",
      "source": [
        "price = int(input(\"구입금액 입력: \"))\n",
        "if price >= 20000:\n",
        "  shipping_cost = 0\n",
        "  print(f\"구입금액이 {price}원 이상입니다.\")\n",
        "else:\n",
        "  shipping_cost = 3000\n",
        "  print(\"구입금액이 2만원 이하입니다\")\n",
        "print(f\"회원님의 배송료는 {shipping_cost}입니다\")"
      ],
      "metadata": {
        "colab": {
          "base_uri": "https://localhost:8080/"
        },
        "id": "q0NImfzx41au",
        "outputId": "7a2b6dcc-a0fb-4194-c882-cc0f301fdbc6"
      },
      "execution_count": 3,
      "outputs": [
        {
          "output_type": "stream",
          "name": "stdout",
          "text": [
            "구입금액 입력: 20000\n",
            "구입금액이 20000원 이상입니다.\n",
            "회원님의 배송료는 0입니다\n"
          ]
        }
      ]
    },
    {
      "cell_type": "markdown",
      "source": [
        "3. 근무시간에 따라 초과근무와 정상근무를 판별하는 코드작성\n",
        "- 변수; work_hour\n",
        "- 수식: >= , 기준시간: 72시간"
      ],
      "metadata": {
        "id": "tPWzmVMp7H3-"
      }
    },
    {
      "cell_type": "code",
      "source": [
        "work_hour = int(input(\"근무시간 입력: \"))\n",
        "if work_hour >= 72:\n",
        "  print(\"초과근무하였습니다.\")\n",
        "else:\n",
        "  print(\"정상근무하였습니다.\")"
      ],
      "metadata": {
        "colab": {
          "base_uri": "https://localhost:8080/"
        },
        "id": "2ElfUAom8akX",
        "outputId": "34a0967d-1d85-422e-a43c-efc482fbb41e"
      },
      "execution_count": 8,
      "outputs": [
        {
          "output_type": "stream",
          "name": "stdout",
          "text": [
            "근무시간 입력: 73\n",
            "초과근무하였습니다.\n"
          ]
        }
      ]
    },
    {
      "cell_type": "markdown",
      "source": [
        "4. 정수를 입력받아서 짝수인지 홀수인지 판별하는 코드 작성\n",
        "- 변수: num\n",
        "- 수식: (num % 2) != 0:\n",
        "\n"
      ],
      "metadata": {
        "id": "rbEKEhHR9_WI"
      }
    },
    {
      "cell_type": "code",
      "source": [
        "num = int(input(\"정수를 입력하시오: \"))\n",
        "if (num % 2) != 0:\n",
        "  print(\"홀수입니다\")\n",
        "else:\n",
        "  print(\"짝수입니다\")"
      ],
      "metadata": {
        "colab": {
          "base_uri": "https://localhost:8080/"
        },
        "id": "xgpfFYFb-txZ",
        "outputId": "c24afab9-5b2f-41f3-d868-d5e790f0728f"
      },
      "execution_count": 11,
      "outputs": [
        {
          "output_type": "stream",
          "name": "stdout",
          "text": [
            "정수를 입력하시오: 4\n",
            "짝수입니다\n"
          ]
        }
      ]
    },
    {
      "cell_type": "markdown",
      "source": [
        "5. 사용자의 이름과 나이를 입력받고, 답변하는 코드 작성\n",
        "- 입력: 성명 - name\n",
        "- 입력: 나이 - age\n",
        "- 수식: if age <= 20:\n",
        "\n",
        "최종 출력물\n",
        "- 이름을 입력하시오.: 박하윤\n",
        "- 나이를 입력하시오.: 20\n",
        "- (1) 프로그래밍을 배우는 최적의 나이입니다.\n",
        "- (2) 아직도 늦지 않았습니다. 도전정신"
      ],
      "metadata": {
        "id": "tTt0_WLsAlA3"
      }
    },
    {
      "cell_type": "code",
      "source": [
        "name = input(\"이름을 입력하시오: \")\n",
        "age = int(input(\"나이를 입력하시오: \"))\n",
        "if age <= 20:\n",
        "  print(\"프로그래밍을 배우는 최적의 나이입니다.\")\n",
        "else:\n",
        "  print(\"아직도 늦지 않았습니다. 도전정신\")"
      ],
      "metadata": {
        "colab": {
          "base_uri": "https://localhost:8080/"
        },
        "id": "4XO6OW2bBZnq",
        "outputId": "7d412a06-4033-4308-d300-8c54b621f770"
      },
      "execution_count": 15,
      "outputs": [
        {
          "output_type": "stream",
          "name": "stdout",
          "text": [
            "이름을 입력하시오: 박하윤\n",
            "나이를 입력하시오: 20\n",
            "프로그래밍을 배우는 최적의 나이입니다.\n"
          ]
        }
      ]
    },
    {
      "cell_type": "code",
      "source": [
        "import random  # random 모듈을 불러옵니다.\n",
        "\n",
        "def generate_lotto_numbers():  # 로또 번호를 생성하는 함수를 정의합니다.\n",
        "    numbers = list(range(1, 46))  # 1부터 45까지의 숫자 리스트를 생성합니다.\n",
        "    lotto = random.sample(numbers, 6)  # numbers 리스트에서 무작위로 6개의 숫자를 선택합니다.\n",
        "    lotto.sort()  # 선택된 번호를 오름차순으로 정렬합니다.\n",
        "    return lotto  # 생성된 로또 번호를 반환합니다.\n",
        "\n",
        "print(generate_lotto_numbers())  # 생성된 로또 번호를 출력합니다.\n"
      ],
      "metadata": {
        "colab": {
          "base_uri": "https://localhost:8080/"
        },
        "id": "o83JFFaoFBLo",
        "outputId": "887e377f-ac3b-4619-a174-7688b0ad7964"
      },
      "execution_count": 16,
      "outputs": [
        {
          "output_type": "stream",
          "name": "stdout",
          "text": [
            "[12, 21, 22, 26, 30, 31]\n"
          ]
        }
      ]
    },
    {
      "cell_type": "code",
      "source": [
        "# 사용자의 이름과 나이를 입력받는 코드\n",
        "name = input(\"당신의 이름을 입력해주세요: \")  # 사용자의 이름을 입력받습니다.\n",
        "age = int(input(\"당신의 나이를 입력해주세요: \"))  # 사용자의 나이를 입력받습니다.\n",
        "\n",
        "# 나이에 따라 다른 메시지를 출력하는 코드\n",
        "if age <= 20:  # 나이가 20살 이하일 경우\n",
        "    print(f'{name}님, 프로그래밍을 배우는 최적의 나이입니다.')  # 해당 메시지를 출력합니다.\n",
        "else:  # 나이가 20살 초과일 경우\n",
        "    print(f'{name}님, 아직도 늦지 않았습니다. 도전정신.')  # 해당 메시지를 출력합니다.\n"
      ],
      "metadata": {
        "colab": {
          "base_uri": "https://localhost:8080/"
        },
        "id": "71n4244CGdW8",
        "outputId": "c68dd938-a663-4748-ba12-e58a2898dfea"
      },
      "execution_count": 17,
      "outputs": [
        {
          "output_type": "stream",
          "name": "stdout",
          "text": [
            "당신의 이름을 입력해주세요: 박하윤\n",
            "당신의 나이를 입력해주세요: 20\n",
            "박하윤님, 프로그래밍을 배우는 최적의 나이입니다.\n"
          ]
        }
      ]
    }
  ]
}