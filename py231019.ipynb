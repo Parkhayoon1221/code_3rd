{
  "nbformat": 4,
  "nbformat_minor": 0,
  "metadata": {
    "colab": {
      "provenance": [],
      "authorship_tag": "ABX9TyPOmVJ4oNuSoz5NXm4AJpsl",
      "include_colab_link": true
    },
    "kernelspec": {
      "name": "python3",
      "display_name": "Python 3"
    },
    "language_info": {
      "name": "python"
    }
  },
  "cells": [
    {
      "cell_type": "markdown",
      "metadata": {
        "id": "view-in-github",
        "colab_type": "text"
      },
      "source": [
        "<a href=\"https://colab.research.google.com/github/Parkhayoon1221/code_3rd/blob/main/py231019.ipynb\" target=\"_parent\"><img src=\"https://colab.research.google.com/assets/colab-badge.svg\" alt=\"Open In Colab\"/></a>"
      ]
    },
    {
      "cell_type": "markdown",
      "source": [
        "1.To-Do List를 작성하시오.\n",
        " - 2023년 10월 19일 박하윤\n",
        " - (1) 09:20 도서관에서 책 빌리기\n",
        " - (2) 11:10 컴퓨팅적 사고와 기초코딩 수업\n",
        " - (3) 13:00 점심식사\n",
        " - (4) 14:10 교양수업\n",
        " - (5) 16:00 파이썬 공부 및 레포트 작성\n",
        " - (6) 17:40 저녁식사및 집안일 돕기\n",
        " - (7) 19:00 LoL하기"
      ],
      "metadata": {
        "id": "z-9VcQf5v1EU"
      }
    },
    {
      "cell_type": "code",
      "source": [
        "print(\"1.To-Do List를 작성하시오.\") # To-Do List 제목 출력\n",
        "print(\"- 2023년 10월 19일 박하윤\") # 작성자 정보 출력\n",
        "print(\"(1) 09:20 도서관에서 책 빌리기\") # 첫 번째 일정 출력\n",
        "print(\"(2) 11:10 컴퓨팅적 사고와 기초코딩 수업\") # 두 번째 일정 출력\n",
        "print(\"(3) 13:00 점심식사\") # 세 번째 일정 출력\n",
        "print(\"(4) 14:10 교양수업\") # 네 번째 일정 출력\n",
        "print(\"(5) 16:00 파이썬 공부 및 레포트 작성\") # 다섯 번째 일정 출력\n",
        "print(\"(6) 17:40 저녁식사및 집안일 돕기\") # 여섯 번째 일정 출력\n",
        "print(\"(7) 19:00 LoL하기\")  # 일곱 번째 일정 출력\n",
        "\n"
      ],
      "metadata": {
        "colab": {
          "base_uri": "https://localhost:8080/"
        },
        "id": "MWLYfI6yySwh",
        "outputId": "23cd96af-5c7d-434a-f412-eefcb47a3a2e"
      },
      "execution_count": null,
      "outputs": [
        {
          "output_type": "stream",
          "name": "stdout",
          "text": [
            "1.To-Do List를 작성하시오.\n",
            "- 2023년 10월 19일 박하윤\n",
            "(1) 09:20 도서관에서 책 빌리기\n",
            "(2) 11:10 컴퓨팅적 사고와 기초코딩 수업\n",
            "(3) 13:00 점심식사\n",
            "(4) 14:10 교양수업\n",
            "(5) 16:00 파이썬 공부 및 레포트 작성\n",
            "(6) 17:40 저녁식사및 집안일 돕기\n",
            "(7) 19:00 LoL하기\n"
          ]
        }
      ]
    },
    {
      "cell_type": "markdown",
      "source": [
        "2. 인사말 출력하기\n",
        " - 식사하셨습니까? 행님"
      ],
      "metadata": {
        "id": "1qcZnD2qwug7"
      }
    },
    {
      "cell_type": "code",
      "source": [
        "print(\"식사하셨습니까? 행님\") # \"식사하셨습니까? 행님\" 메시지를 출력"
      ],
      "metadata": {
        "colab": {
          "base_uri": "https://localhost:8080/"
        },
        "id": "pKzD0aa70CTQ",
        "outputId": "3d1818dd-1461-4534-a6a8-5585aced49d4"
      },
      "execution_count": null,
      "outputs": [
        {
          "output_type": "stream",
          "name": "stdout",
          "text": [
            "식사하셨습니까? 행님\n"
          ]
        }
      ]
    },
    {
      "cell_type": "markdown",
      "source": [
        "3. 학생 4명의 국어점수를 입력받아서 아래와 같이 출력하시오.\n",
        " - 박보검: 90점\n",
        " - 션    : 92점\n",
        " - 도룡용: 80점\n",
        " - 차은우: 99점\n",
        " - 국어 점수 순위\n",
        " - 1등 차은우\n",
        " - 2등 션\n",
        " - 3등 박보검\n",
        " - 4등 도룡용"
      ],
      "metadata": {
        "id": "f8x0g0Umw5Oa"
      }
    },
    {
      "cell_type": "code",
      "source": [
        "n1=input(\"N1의 값을 입력하시오:\") # 사용자로부터 N1의 값을 입력받음\n",
        "n2=input(\"N2의 값을 입력하시오:\") # 사용자로부터 N2의 값을 입력받음\n",
        "n3=input(\"N3의 값을 입력하시오:\") # 사용자로부터 N3의 값을 입력받음\n",
        "n4=input(\"N4의 값을 입력하시오:\") # 사용자로부터 N4의 값을 입력받음\n",
        "print(\"국어 점수 순위\") # \"국어 점수 순위\" 메시지를 출력\n",
        "print(\"1등\",n4) # 1등의 점수를 출력\n",
        "print(\"2등\",n2) # 2등의 점수를 출력\n",
        "print(\"3등\",n1) # 3등의 점수를 출력\n",
        "print(\"4등\",n3) # 4등의 점수를 출력"
      ],
      "metadata": {
        "colab": {
          "base_uri": "https://localhost:8080/"
        },
        "id": "TYXV0Lkf1yVw",
        "outputId": "7e787a6d-948c-472b-e761-0168aeef90c6"
      },
      "execution_count": null,
      "outputs": [
        {
          "output_type": "stream",
          "name": "stdout",
          "text": [
            "N1의 값을 입력하시오:박보검 90점\n",
            "N2의 값을 입력하시오:션 92점\n",
            "N3의 값을 입력하시오:도룡용 80점\n",
            "N4의 값을 입력하시오:차은우 99점\n",
            "국어 점수 순위\n",
            "1등 차은우 99점\n",
            "2등 션 92점\n",
            "3등 박보검 90점\n",
            "4등 도룡용 80점\n"
          ]
        }
      ]
    },
    {
      "cell_type": "markdown",
      "source": [
        "4. 두개의 점수를 입력받아서 합계와 평균을 출력하시오."
      ],
      "metadata": {
        "id": "gy2JBzssxfEi"
      }
    },
    {
      "cell_type": "code",
      "source": [
        "n1=int(input(\"n1의 값을 입력하시오:\")) # 사용자로부터 n1의 값을 정수형으로 입력받음\n",
        "n2=int(input(\"n2의 값을 입력하시오:\")) # 사용자로부터 n2의 값을 정수형으로 입력받음\n",
        "total=n1+n2 # n1과 n2의 합을 구함\n",
        "average=total/2 # 합을 2로 나누어 평균을 계산함\n",
        "print(average) # 평균을 출력"
      ],
      "metadata": {
        "colab": {
          "base_uri": "https://localhost:8080/"
        },
        "id": "POpFs6cN7Br0",
        "outputId": "203a2a5d-8a92-4623-b5c5-400595dc7c7b"
      },
      "execution_count": null,
      "outputs": [
        {
          "output_type": "stream",
          "name": "stdout",
          "text": [
            "n1의 값을 입력하시오:90\n",
            "n2의 값을 입력하시오:92\n",
            "91.0\n"
          ]
        }
      ]
    }
  ]
}