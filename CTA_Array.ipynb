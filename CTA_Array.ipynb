{
  "nbformat": 4,
  "nbformat_minor": 0,
  "metadata": {
    "colab": {
      "provenance": [],
      "authorship_tag": "ABX9TyOh/ew8GKNSNr7m33BGbWGA",
      "include_colab_link": true
    },
    "kernelspec": {
      "name": "python3",
      "display_name": "Python 3"
    },
    "language_info": {
      "name": "python"
    }
  },
  "cells": [
    {
      "cell_type": "markdown",
      "metadata": {
        "id": "view-in-github",
        "colab_type": "text"
      },
      "source": [
        "<a href=\"https://colab.research.google.com/github/Parkhayoon1221/code_3rd/blob/main/CTA_Array.ipynb\" target=\"_parent\"><img src=\"https://colab.research.google.com/assets/colab-badge.svg\" alt=\"Open In Colab\"/></a>"
      ]
    },
    {
      "cell_type": "markdown",
      "source": [
        "1. 배열의 선언\n",
        "- 일반 변수의 선언 ; 변수명 = 변수의 값\n",
        "- 배열의 변수 선언 : 변수명 = [  , ,  ]"
      ],
      "metadata": {
        "id": "VnhbjmwwMJaO"
      }
    },
    {
      "cell_type": "code",
      "source": [
        "movie_list = [\"아바타\", \"타이타닉\", \"스타워즈\", \"주라기공원\", \"어벤저스\"]  # 영화 제목들을 담은 리스트를 생성합니다.\n",
        "print(movie_list[0])                                                       # 리스트의 첫 번째 요소를 출력합니다.\n",
        "print(movie_list[4])                                                       # 리스트의 다섯 번째 요소를 출력합니다."
      ],
      "metadata": {
        "colab": {
          "base_uri": "https://localhost:8080/"
        },
        "id": "v7qU6CO_NULe",
        "outputId": "f329cbb1-d16e-4843-8edd-dab785825fcd"
      },
      "execution_count": null,
      "outputs": [
        {
          "output_type": "stream",
          "name": "stdout",
          "text": [
            "아바타\n",
            "어벤저스\n"
          ]
        }
      ]
    },
    {
      "cell_type": "markdown",
      "source": [
        "2. 요일을 배열로 선언하라.\n",
        "- 변수명 : day_list\n",
        " * 요일 : 월(Mon.), 화(Tues.), 수(Wed.), 목(Thur.), 금 (Fri.), 토(Sat.), 일(Sun.)"
      ],
      "metadata": {
        "id": "fsF90vrcOzOX"
      }
    },
    {
      "cell_type": "code",
      "source": [
        "day_list = [\"월(Mon.)\", \"화(Tues.)\", \"수(Wed.)\", \"목(Thur.)\", \"금(Fri.)\", \"토(Sat.)\", \"일(Sun.)\"]  # 요일을 담은 리스트를 생성합니다.\n",
        "print(day_list[0])                                                                                 # 리스트의 첫 번째 요소를 출력합니다.\n",
        "print(day_list[1])                                                                                 # 리스트의 두 번째 요소를 출력합니다.\n",
        "print(day_list[2])                                                                                 # 리스트의 세 번째 요소를 출력합니다.\n",
        "print(day_list[3])                                                                                 # 리스트의 네 번째 요소를 출력합니다.\n",
        "print(day_list[4])                                                                                 # 리스트의 다섯 번째 요소를 출력합니다.\n",
        "print(day_list[5])                                                                                 # 리스트의 여섯 번째 요소를 출력합니다.\n",
        "print(day_list[6])                                                                                 # 리스트의 일곱 번째 요소를 출력합니다."
      ],
      "metadata": {
        "colab": {
          "base_uri": "https://localhost:8080/"
        },
        "id": "SyYc1qU2Oxgn",
        "outputId": "3f3027ca-4fc2-413c-933f-a47e5d950a5d"
      },
      "execution_count": null,
      "outputs": [
        {
          "output_type": "stream",
          "name": "stdout",
          "text": [
            "월(Mon.)\n",
            "화(Tues.)\n",
            "수(Wed.)\n",
            "목(Thur.)\n",
            "금(Fri.)\n",
            "토(Sat.)\n",
            "일(Sun.)\n"
          ]
        }
      ]
    }
  ]
}